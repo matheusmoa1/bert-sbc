{
 "cells": [
  {
   "cell_type": "markdown",
   "id": "e2e2b1ad-6e4f-4710-8a15-16d0dfa64cc1",
   "metadata": {
    "jp-MarkdownHeadingCollapsed": true
   },
   "source": [
    "# Equipe"
   ]
  },
  {
   "cell_type": "markdown",
   "id": "00b680c0-1a62-47b7-9ee9-b1e88908aef1",
   "metadata": {},
   "source": [
    "## Alisson Gabriel Domingos Vieira, Joás Gomes dos Santos e Matheus Oliveira de Arruda"
   ]
  },
  {
   "cell_type": "markdown",
   "id": "506adcbf-af16-406e-9099-6db4855eff82",
   "metadata": {
    "jp-MarkdownHeadingCollapsed": true
   },
   "source": [
    "# Modelagem de Linguagem Mascarada de Ponta a Ponta com BERT - Dataset IMDb"
   ]
  },
  {
   "cell_type": "markdown",
   "id": "694d7b82-0f0b-4c0c-9ec1-cc8c2eb2fdb9",
   "metadata": {},
   "source": [
    "## Setup"
   ]
  },
  {
   "cell_type": "code",
   "execution_count": null,
   "id": "c2488ccd-20f0-4951-a28d-8bf56c65c912",
   "metadata": {},
   "outputs": [],
   "source": [
    "# Define qual backend o Keras deve usar. Neste caso, está sendo forçado a utilizar o TensorFlow como backend.\n",
    "import os\n",
    "os.environ[\"KERAS_BACKEND\"] = \"tensorflow\"\n",
    "\n",
    "# Importa os principais módulos da biblioteca Keras para criação de modelos e camadas.\n",
    "import keras\n",
    "from keras import layers\n",
    "from keras.layers import TextVectorization  # Camada responsável por transformar texto bruto em tokens vetorizados.\n",
    "\n",
    "# Importa o decorador dataclass, que permite criar classes simples para armazenar configurações ou dados.\n",
    "from dataclasses import dataclass\n",
    "\n",
    "# Importa bibliotecas auxiliares:\n",
    "import pandas as pd       # Biblioteca para análise e manipulação de dados, especialmente tabelas e DataFrames.\n",
    "import numpy as np        # Biblioteca para computação numérica eficiente, trabalhando com arrays e operações vetoriais.\n",
    "import glob               # Usada para buscar arquivos usando padrões no nome (ex: *.txt, *.csv).\n",
    "import re                 # Usada para aplicar expressões regulares, muito útil em pré-processamento de texto.\n",
    "from pprint import pprint # Usada para imprimir objetos Python de forma mais legível (útil para debugging).\n"
   ]
  },
  {
   "cell_type": "markdown",
   "id": "9df65af3-66ec-4a3d-ae8b-1aef78421b9c",
   "metadata": {},
   "source": [
    "## Setup de Configuração"
   ]
  },
  {
   "cell_type": "code",
   "execution_count": null,
   "id": "7905bfec-d6ec-4b7a-bca4-f382c6dea7ed",
   "metadata": {},
   "outputs": [],
   "source": [
    "from dataclasses import dataclass\n",
    "\n",
    "# Define uma classe de configuração usando o decorador @dataclass.\n",
    "# Essa estrutura é útil para armazenar todos os hiperparâmetros do modelo de forma organizada.\n",
    "@dataclass\n",
    "class Config:\n",
    "    # Tamanho máximo de tokens por sequência (limite de comprimento das frases para entrada no modelo)\n",
    "    MAX_LEN = 256\n",
    "\n",
    "    # Tamanho do lote (batch) utilizado durante o treinamento do modelo\n",
    "    BATCH_SIZE = 32\n",
    "\n",
    "    # Taxa de aprendizado (learning rate) usada pelo otimizador para ajustar os pesos do modelo\n",
    "    LR = 0.001\n",
    "\n",
    "    # Tamanho do vocabulário (número de tokens únicos que o modelo consegue representar)\n",
    "    VOCAB_SIZE = 30000\n",
    "\n",
    "    # Dimensão dos vetores de embedding e também da saída das atenções\n",
    "    EMBED_DIM = 128\n",
    "\n",
    "    # Número de cabeças na camada de atenção multi-cabeça (Multi-Head Attention)\n",
    "    NUM_HEAD = 8\n",
    "\n",
    "    # Dimensão intermediária da rede feedforward dentro dos blocos Transformer\n",
    "    FF_DIM = 128\n",
    "\n",
    "    # Número de blocos Transformer empilhados (equivale ao número de camadas no encoder)\n",
    "    NUM_LAYERS = 1\n",
    "\n",
    "# Cria uma instância da configuração que pode ser acessada em todo o script.\n",
    "config = Config()\n"
   ]
  },
  {
   "cell_type": "markdown",
   "id": "49351e46-71e2-4a1c-9d89-9f9e6a1886a1",
   "metadata": {},
   "source": [
    "## Download e Descompactação do Dataset"
   ]
  },
  {
   "cell_type": "code",
   "execution_count": null,
   "id": "8b607e8d-74db-411b-8bbd-755edf0b2880",
   "metadata": {},
   "outputs": [],
   "source": [
    "import urllib.request\n",
    "import tarfile\n",
    "\n",
    "# URL do dataset IMDB de análise de sentimentos (positivo/negativo), em formato compactado .tar.gz\n",
    "url = \"https://ai.stanford.edu/~amaas/data/sentiment/aclImdb_v1.tar.gz\"\n",
    "\n",
    "# Nome do arquivo que será salvo localmente após o download\n",
    "filename = \"aclImdb_v1.tar.gz\"\n",
    "\n",
    "# Faz o download do arquivo a partir da URL e salva com o nome especificado\n",
    "urllib.request.urlretrieve(url, filename)\n",
    "\n",
    "# Abre o arquivo compactado .tar.gz e extrai seu conteúdo no diretório atual\n",
    "with tarfile.open(filename, \"r:gz\") as tar:\n",
    "    tar.extractall()\n"
   ]
  },
  {
   "cell_type": "code",
   "execution_count": null,
   "id": "052936f5-2a3a-42c6-ae9a-adc82d903f85",
   "metadata": {},
   "outputs": [],
   "source": [
    "# Função que recebe uma lista de arquivos de texto e retorna uma lista com todas as linhas de todos os arquivos.\n",
    "def get_text_list_from_files(files):\n",
    "    text_list = []\n",
    "    for name in files:\n",
    "        with open(name) as f:\n",
    "            for line in f:\n",
    "                text_list.append(line)  # Adiciona cada linha do arquivo na lista\n",
    "    return text_list\n",
    "\n",
    "# Função que carrega textos e rótulos de sentimento de uma pasta (train ou test) do dataset IMDB\n",
    "def get_data_from_text_files(folder_name):\n",
    "    # Coleta os caminhos dos arquivos de reviews positivas\n",
    "    pos_files = glob.glob(\"aclImdb/\" + folder_name + \"/pos/*.txt\")\n",
    "    pos_texts = get_text_list_from_files(pos_files)\n",
    "\n",
    "    # Coleta os caminhos dos arquivos de reviews negativas\n",
    "    neg_files = glob.glob(\"aclImdb/\" + folder_name + \"/neg/*.txt\")\n",
    "    neg_texts = get_text_list_from_files(neg_files)\n",
    "\n",
    "    # Cria um DataFrame com os textos e os respectivos rótulos:\n",
    "    # 0 para positivo, 1 para negativo (inverso do comum, cuidado!)\n",
    "    df = pd.DataFrame({\n",
    "        \"review\": pos_texts + neg_texts,\n",
    "        \"sentiment\": [0] * len(pos_texts) + [1] * len(neg_texts),\n",
    "    })\n",
    "\n",
    "    # Embaralha o DataFrame para evitar viés na ordem\n",
    "    df = df.sample(len(df)).reset_index(drop=True)\n",
    "    return df\n",
    "\n",
    "# Carrega e prepara os conjuntos de treino e teste\n",
    "train_df = get_data_from_text_files(\"train\")\n",
    "test_df = get_data_from_text_files(\"test\")\n",
    "\n",
    "# Junta todos os dados (útil para criar vocabulário ou análises globais)\n",
    "all_data = pd.concat([train_df, test_df], ignore_index=True)\n"
   ]
  },
  {
   "cell_type": "markdown",
   "id": "a670b058-a694-4a53-a618-9b6d2ec61625",
   "metadata": {},
   "source": [
    "## Preparação do Dataset"
   ]
  },
  {
   "cell_type": "code",
   "execution_count": null,
   "id": "3a4e5169-8648-4122-915f-b7fce4267137",
   "metadata": {},
   "outputs": [],
   "source": [
    "import tensorflow as tf\n",
    "\n",
    "# Função de normalização personalizada para o TextVectorization\n",
    "# - Converte para minúsculas\n",
    "# - Remove tags HTML como <br />\n",
    "# - Remove pontuações específicas\n",
    "def custom_standardization(input_data):\n",
    "    lowercase = tf.strings.lower(input_data)\n",
    "    stripped_html = tf.strings.regex_replace(lowercase, \"<br />\", \" \")\n",
    "    return tf.strings.regex_replace(\n",
    "        stripped_html, \"[%s]\" % re.escape(\"!#$%&'()*+,-./:;<=>?@\\^_`{|}~\"), \"\"\n",
    "    )\n",
    "\n",
    "# Função para criar e configurar a camada de vetorizar texto do Keras\n",
    "def get_vectorize_layer(texts, vocab_size, max_seq, special_tokens=[\"[MASK]\"]):\n",
    "    \"\"\"\n",
    "    Cria uma camada de vetorizar texto (TextVectorization) com tokenização customizada.\n",
    "\n",
    "    Args:\n",
    "      texts (list): Lista de strings com os textos de entrada\n",
    "      vocab_size (int): Tamanho máximo do vocabulário\n",
    "      max_seq (int): Tamanho máximo de sequência\n",
    "      special_tokens (list): Tokens especiais que devem ser incluídos no vocabulário\n",
    "\n",
    "    Returns:\n",
    "      TextVectorization: Camada configurada e adaptada ao vocabulário\n",
    "    \"\"\"\n",
    "    vectorize_layer = TextVectorization(\n",
    "        max_tokens=vocab_size,\n",
    "        output_mode=\"int\",\n",
    "        standardize=custom_standardization,\n",
    "        output_sequence_length=max_seq,\n",
    "    )\n",
    "    vectorize_layer.adapt(texts)  # Aprende o vocabulário a partir dos dados\n",
    "\n",
    "    # Insere token especial [MASK] manualmente no vocabulário\n",
    "    vocab = vectorize_layer.get_vocabulary()\n",
    "    vocab = vocab[2 : vocab_size - len(special_tokens)] + [\"[mask]\"]\n",
    "    vectorize_layer.set_vocabulary(vocab)\n",
    "    return vectorize_layer\n",
    "\n",
    "# Cria a camada de vetorizar texto com o vocabulário aprendido dos dados\n",
    "vectorize_layer = get_vectorize_layer(\n",
    "    all_data.review.values.tolist(),\n",
    "    config.VOCAB_SIZE,\n",
    "    config.MAX_LEN,\n",
    "    special_tokens=[\"[mask]\"],\n",
    ")\n",
    "\n",
    "# Obtém o ID correspondente ao token [MASK]\n",
    "mask_token_id = vectorize_layer([\"[mask]\"]).numpy()[0][0]\n",
    "\n",
    "# Função para codificar textos em sequências de inteiros\n",
    "def encode(texts):\n",
    "    encoded_texts = vectorize_layer(texts)\n",
    "    return encoded_texts.numpy()\n",
    "\n",
    "# Função que aplica o esquema de mascaramento BERT:\n",
    "# 15% dos tokens são candidatos a serem mascarados, com:\n",
    "# - 90% substituídos por [MASK]\n",
    "# - 10% substituídos por tokens aleatórios\n",
    "# - Os restantes permanecem os mesmos\n",
    "def get_masked_input_and_labels(encoded_texts):\n",
    "    inp_mask = np.random.rand(*encoded_texts.shape) < 0.15  # Seleciona 15% para masking\n",
    "    inp_mask[encoded_texts <= 2] = False  # Evita mascarar tokens especiais (padding, start, etc.)\n",
    "\n",
    "    labels = -1 * np.ones(encoded_texts.shape, dtype=int)  # Inicializa com -1 (ignorar)\n",
    "    labels[inp_mask] = encoded_texts[inp_mask]  # Salva os verdadeiros rótulos dos tokens mascarados\n",
    "\n",
    "    # Aplica o token [MASK] em 90% dos tokens selecionados para masking\n",
    "    encoded_texts_masked = np.copy(encoded_texts)\n",
    "    inp_mask_2mask = inp_mask & (np.random.rand(*encoded_texts.shape) < 0.90)\n",
    "    encoded_texts_masked[inp_mask_2mask] = mask_token_id\n",
    "\n",
    "    # Substitui 10% por tokens aleatórios (entre 3 e o último ID do vocabulário)\n",
    "    inp_mask_2random = inp_mask_2mask & (np.random.rand(*encoded_texts.shape) < 1 / 9)\n",
    "    encoded_texts_masked[inp_mask_2random] = np.random.randint(\n",
    "        3, mask_token_id, inp_mask_2random.sum()\n",
    "    )\n",
    "\n",
    "    # Define pesos das amostras (tokens) - só tokens com label válido contribuem para o loss\n",
    "    sample_weights = np.ones(labels.shape)\n",
    "    sample_weights[labels == -1] = 0\n",
    "\n",
    "    # Retorna inputs com masking, rótulos originais e pesos\n",
    "    y_labels = np.copy(encoded_texts)\n",
    "    return encoded_texts_masked, y_labels, sample_weights\n",
    "\n",
    "# Pré-processamento dos dados de treino para o classificador de sentimentos\n",
    "x_train = encode(train_df.review.values)  # Transforma texto em sequências de IDs\n",
    "y_train = train_df.sentiment.values\n",
    "train_classifier_ds = (\n",
    "    tf.data.Dataset.from_tensor_slices((x_train, y_train))\n",
    "    .shuffle(1000)\n",
    "    .batch(config.BATCH_SIZE)\n",
    ")\n",
    "\n",
    "# Pré-processamento dos dados de teste\n",
    "x_test = encode(test_df.review.values)\n",
    "y_test = test_df.sentiment.values\n",
    "test_classifier_ds = tf.data.Dataset.from_tensor_slices((x_test, y_test)).batch(\n",
    "    config.BATCH_SIZE\n",
    ")\n",
    "\n",
    "# Armazena o DataFrame bruto de teste para possível uso posterior no modelo end-to-end\n",
    "test_raw_classifier_ds = test_df\n",
    "\n",
    "# Gera dados de entrada para treinamento com Masked Language Modeling (MLM)\n",
    "x_all_review = encode(all_data.review.values)\n",
    "x_masked_train, y_masked_labels, sample_weights = get_masked_input_and_labels(\n",
    "    x_all_review\n",
    ")\n",
    "\n",
    "# Cria dataset TensorFlow para o treinamento do modelo de linguagem\n",
    "mlm_ds = tf.data.Dataset.from_tensor_slices(\n",
    "    (x_masked_train, y_masked_labels, sample_weights)\n",
    ")\n",
    "mlm_ds = mlm_ds.shuffle(1000).batch(config.BATCH_SIZE)\n"
   ]
  },
  {
   "cell_type": "markdown",
   "id": "046ab757-10ae-4f39-9d5d-71b68cfeee4f",
   "metadata": {},
   "source": [
    "## Criando o modelo BERT (Modelo de Pré-treinamento) para MLM"
   ]
  },
  {
   "cell_type": "code",
   "execution_count": null,
   "id": "371953c0-412d-4ba5-9e57-51132f108cad",
   "metadata": {},
   "outputs": [],
   "source": [
    "import keras_nlp\n",
    "\n",
    "# Função que define um bloco encoder do BERT (atenção + feedforward)\n",
    "def bert_module(query, key, value, i):\n",
    "    # Camada de Atenção Multi-Cabeça (self-attention)\n",
    "    attention_output = layers.MultiHeadAttention(\n",
    "        num_heads=config.NUM_HEAD,\n",
    "        key_dim=config.EMBED_DIM // config.NUM_HEAD,  # divisão da dimensão entre as cabeças\n",
    "        name=f\"encoder_{i}_multiheadattention\"\n",
    "    )(query, key, value)\n",
    "\n",
    "    # Dropout após a atenção\n",
    "    attention_output = layers.Dropout(0.1, name=f\"encoder_{i}_att_dropout\")(attention_output)\n",
    "\n",
    "    # Normalização + conexão residual\n",
    "    attention_output = layers.LayerNormalization(\n",
    "        epsilon=1e-6,\n",
    "        name=f\"encoder_{i}_att_layernormalization\"\n",
    "    )(query + attention_output)\n",
    "\n",
    "    # Camada FeedForward: Dense → ReLU → Dense\n",
    "    ffn = keras.Sequential(\n",
    "        [\n",
    "            layers.Dense(config.FF_DIM, activation=\"relu\"),\n",
    "            layers.Dense(config.EMBED_DIM),\n",
    "        ],\n",
    "        name=f\"encoder_{i}_ffn\"\n",
    "    )\n",
    "    ffn_output = ffn(attention_output)\n",
    "    ffn_output = layers.Dropout(0.1, name=f\"encoder_{i}_ffn_dropout\")(ffn_output)\n",
    "\n",
    "    # Normalização + conexão residual após feedforward\n",
    "    sequence_output = layers.LayerNormalization(\n",
    "        epsilon=1e-6,\n",
    "        name=f\"encoder_{i}_ffn_layernormalization\"\n",
    "    )(attention_output + ffn_output)\n",
    "\n",
    "    return sequence_output\n",
    "\n",
    "# Função de perda para MLM: Entropia cruzada com pesos por token\n",
    "loss_fn = keras.losses.SparseCategoricalCrossentropy(reduction=None)\n",
    "loss_tracker = keras.metrics.Mean(name=\"loss\")\n",
    "\n",
    "# Modelo customizado para linguagem com máscara (MLM)\n",
    "class MaskedLanguageModel(keras.Model):\n",
    "\n",
    "    def compute_loss(self, x=None, y=None, y_pred=None, sample_weight=None):\n",
    "        # Calcula a perda por token e atualiza a métrica de loss\n",
    "        loss = loss_fn(y, y_pred, sample_weight)\n",
    "        loss_tracker.update_state(loss, sample_weight=sample_weight)\n",
    "        return keras.ops.sum(loss)\n",
    "\n",
    "    def compute_metrics(self, x, y, y_pred, sample_weight):\n",
    "        # Retorna as métricas monitoradas (loss médio da época)\n",
    "        return {\"loss\": loss_tracker.result()}\n",
    "\n",
    "    @property\n",
    "    def metrics(self):\n",
    "        # Necessário para o reset automático das métricas\n",
    "        return [loss_tracker]\n",
    "\n",
    "# Função que constrói o modelo de linguagem BERT-like com predição de tokens mascarados\n",
    "def create_masked_language_bert_model():\n",
    "    # Entrada: sequência de inteiros (IDs dos tokens)\n",
    "    inputs = layers.Input((config.MAX_LEN,), dtype=\"int64\")\n",
    "\n",
    "    # Embedding de palavras e de posições (keras-nlp)\n",
    "    word_embeddings = layers.Embedding(config.VOCAB_SIZE, config.EMBED_DIM, name=\"word_embedding\")(inputs)\n",
    "    position_embeddings = keras_nlp.layers.PositionEmbedding(\n",
    "        sequence_length=config.MAX_LEN,\n",
    "        name=\"position_embedding\"\n",
    "    )(word_embeddings)\n",
    "\n",
    "    embeddings = word_embeddings + position_embeddings  # Soma embeddings + posição\n",
    "\n",
    "    # Passa por blocos Transformer empilhados\n",
    "    encoder_output = embeddings\n",
    "    for i in range(config.NUM_LAYERS):\n",
    "        encoder_output = bert_module(encoder_output, encoder_output, encoder_output, i)\n",
    "\n",
    "    # Camada final de predição com softmax sobre o vocabulário\n",
    "    mlm_output = layers.Dense(config.VOCAB_SIZE, name=\"mlm_cls\", activation=\"softmax\")(encoder_output)\n",
    "\n",
    "    # Modelo final\n",
    "    mlm_model = MaskedLanguageModel(inputs, mlm_output, name=\"masked_bert_model\")\n",
    "    optimizer = keras.optimizers.Adam(learning_rate=config.LR)\n",
    "    mlm_model.compile(optimizer=optimizer)\n",
    "    return mlm_model\n",
    "\n",
    "# Dicionários de conversão entre ID e token\n",
    "id2token = dict(enumerate(vectorize_layer.get_vocabulary()))\n",
    "token2id = {y: x for x, y in id2token.items()}\n",
    "\n",
    "# Callback que gera e imprime predições para tokens mascarados ao final de cada época\n",
    "class MaskedTextGenerator(keras.callbacks.Callback):\n",
    "    def __init__(self, sample_tokens, top_k=5):\n",
    "        self.sample_tokens = sample_tokens\n",
    "        self.k = top_k\n",
    "\n",
    "    def decode(self, tokens):\n",
    "        # Converte uma sequência de IDs em texto\n",
    "        return \" \".join([id2token[t] for t in tokens if t != 0])\n",
    "\n",
    "    def convert_ids_to_tokens(self, id):\n",
    "        return id2token[id]\n",
    "\n",
    "    def on_epoch_end(self, epoch, logs=None):\n",
    "        # Faz predição usando o modelo\n",
    "        prediction = self.model.predict(self.sample_tokens)\n",
    "\n",
    "        # Localiza o índice do token [MASK] na sequência\n",
    "        masked_index = np.where(self.sample_tokens == mask_token_id)\n",
    "        masked_index = masked_index[1]  # Posição na sequência\n",
    "\n",
    "        # Extrai a predição correspondente ao token [MASK]\n",
    "        mask_prediction = prediction[0][masked_index]\n",
    "\n",
    "        # Pega os top-k tokens mais prováveis para preencher a máscara\n",
    "        top_indices = mask_prediction[0].argsort()[-self.k :][::-1]\n",
    "        values = mask_prediction[0][top_indices]\n",
    "\n",
    "        for i in range(len(top_indices)):\n",
    "            p = top_indices[i]\n",
    "            v = values[i]\n",
    "            tokens = np.copy(sample_tokens[0])\n",
    "            tokens[masked_index[0]] = p\n",
    "            result = {\n",
    "                \"input_text\": self.decode(sample_tokens[0].numpy()),\n",
    "                \"prediction\": self.decode(tokens),\n",
    "                \"probability\": v,\n",
    "                \"predicted mask token\": self.convert_ids_to_tokens(p),\n",
    "            }\n",
    "            pprint(result)\n",
    "\n",
    "# Exemplo de frase com [MASK] para o callback\n",
    "sample_tokens = vectorize_layer([\"I have watched this [mask] and it was awesome\"])\n",
    "generator_callback = MaskedTextGenerator(sample_tokens.numpy())\n",
    "\n",
    "# Cria o modelo final\n",
    "bert_masked_model = create_masked_language_bert_model()\n",
    "\n",
    "# Mostra o resumo da arquitetura do modelo\n",
    "bert_masked_model.summary()\n"
   ]
  },
  {
   "cell_type": "markdown",
   "id": "7f3dd022-37d0-45dd-b453-43ced9265035",
   "metadata": {},
   "source": [
    "## Treinamento"
   ]
  },
  {
   "cell_type": "code",
   "execution_count": null,
   "id": "9720651a-6893-404f-bd28-52de6dad258d",
   "metadata": {
    "scrolled": true
   },
   "outputs": [],
   "source": [
    "# Treinamento do modelo BERT com Masked Language Modeling por 5 épocas.\n",
    "# Durante o treinamento, o callback irá gerar predições para o token [MASK] ao final de cada época.\n",
    "bert_masked_model.fit(\n",
    "    mlm_ds,\n",
    "    epochs=5,\n",
    "    callbacks=[generator_callback]  # Callback para visualizar a predição do [MASK]\n",
    ")\n",
    "\n",
    "# Salva o modelo treinado no formato .keras (padrão moderno recomendado pelo Keras)\n",
    "bert_masked_model.save(\"bert_mlm_imdb.keras\")"
   ]
  },
  {
   "cell_type": "markdown",
   "id": "b3d8ff50-eee3-4041-bd14-1ea2bf6256ee",
   "metadata": {},
   "source": [
    "## Fine-tune de um modelo de classificação de sentimentos"
   ]
  },
  {
   "cell_type": "code",
   "execution_count": null,
   "id": "d2e08829-2a99-4d83-8e2d-9c5a6be3477d",
   "metadata": {},
   "outputs": [],
   "source": [
    "# Carrega o modelo BERT pré-treinado com masked language modeling\n",
    "# É necessário passar a classe customizada usada na definição original (MaskedLanguageModel)\n",
    "mlm_model = keras.models.load_model(\n",
    "    \"bert_mlm_imdb.keras\", custom_objects={\"MaskedLanguageModel\": MaskedLanguageModel}\n",
    ")\n",
    "\n",
    "# Extrai apenas a parte do encoder BERT (até a última normalização do encoder)\n",
    "# Isso será reutilizado como extrator de features no modelo de classificação\n",
    "pretrained_bert_model = keras.Model(\n",
    "    mlm_model.input,\n",
    "    mlm_model.get_layer(\"encoder_0_ffn_layernormalization\").output\n",
    ")\n",
    "\n",
    "# Congela os pesos do encoder BERT para treinar só as camadas do classificador\n",
    "pretrained_bert_model.trainable = False"
   ]
  },
  {
   "cell_type": "code",
   "execution_count": null,
   "id": "ad9fd04c-ad38-47b9-b7b8-39614408d646",
   "metadata": {},
   "outputs": [],
   "source": [
    "# Função que cria o modelo de classificação com base no encoder BERT já treinado\n",
    "def create_classifier_bert_model():\n",
    "    inputs = layers.Input((config.MAX_LEN,), dtype=\"int64\")\n",
    "    sequence_output = pretrained_bert_model(inputs)  # Saída do encoder BERT\n",
    "\n",
    "    # Aplica Global Max Pooling para condensar a sequência em um vetor fixo\n",
    "    pooled_output = layers.GlobalMaxPooling1D()(sequence_output)\n",
    "\n",
    "    # Camada densa intermediária\n",
    "    hidden_layer = layers.Dense(64, activation=\"relu\")(pooled_output)\n",
    "\n",
    "    # Camada de saída binária com ativação sigmoide (classificação de sentimento)\n",
    "    outputs = layers.Dense(1, activation=\"sigmoid\")(hidden_layer)\n",
    "\n",
    "    # Define e compila o modelo\n",
    "    classifer_model = keras.Model(inputs, outputs, name=\"classification\")\n",
    "    optimizer = keras.optimizers.Adam()\n",
    "    classifer_model.compile(\n",
    "        optimizer=optimizer,\n",
    "        loss=\"binary_crossentropy\",  # Saída binária (positivo/negativo)\n",
    "        metrics=[\"accuracy\"]\n",
    "    )\n",
    "    return classifer_model\n",
    "\n",
    "# Cria o modelo de classificação\n",
    "classifer_model = create_classifier_bert_model()\n",
    "classifer_model.summary()  # Exibe a arquitetura do modelo"
   ]
  },
  {
   "cell_type": "code",
   "execution_count": null,
   "id": "29434647-3220-4e21-9406-82fc8aeeae81",
   "metadata": {},
   "outputs": [],
   "source": [
    "# Treina o classificador com o encoder BERT congelado (apenas a parte final será ajustada)\n",
    "classifer_model.fit(\n",
    "    train_classifier_ds,\n",
    "    epochs=5,\n",
    "    validation_data=test_classifier_ds,\n",
    ")"
   ]
  },
  {
   "cell_type": "code",
   "execution_count": null,
   "id": "f62ec01b-b8d9-4c1a-a97f-4e27b0620dcd",
   "metadata": {},
   "outputs": [],
   "source": [
    "# Descongela o encoder BERT para realizar fine-tuning completo\n",
    "pretrained_bert_model.trainable = True\n",
    "\n",
    "# Recompila o modelo com novo otimizador\n",
    "optimizer = keras.optimizers.Adam()\n",
    "classifer_model.compile(\n",
    "    optimizer=optimizer,\n",
    "    loss=\"binary_crossentropy\",\n",
    "    metrics=[\"accuracy\"]\n",
    ")\n",
    "\n",
    "# Realiza novo treinamento agora ajustando toda a arquitetura, incluindo o encoder\n",
    "classifer_model.fit(\n",
    "    train_classifier_ds,\n",
    "    epochs=5,\n",
    "    validation_data=test_classifier_ds,\n",
    ")"
   ]
  },
  {
   "cell_type": "markdown",
   "id": "cb16d8c1-3891-4019-bbea-e2772442ee3b",
   "metadata": {},
   "source": [
    "## Modelo de ponta a ponta que incorpore a TextVectorizationcamada dentro do método evalaute e avaliar"
   ]
  },
  {
   "cell_type": "code",
   "execution_count": null,
   "id": "15a15350-b478-4730-b77e-789c8f44dcf4",
   "metadata": {
    "scrolled": true
   },
   "outputs": [],
   "source": [
    "# Cria uma subclasse de keras.Model para avaliar diretamente um DataFrame com texto cru\n",
    "# Essa abordagem permite usar `.evaluate()` com um DataFrame (em vez de tensor pré-processado)\n",
    "class ModelEndtoEnd(keras.Model):\n",
    "    \n",
    "    def evaluate(self, inputs):\n",
    "        # Pré-processa os dados de entrada (conversão de texto para IDs)\n",
    "        features = encode(inputs.review.values)\n",
    "        labels = inputs.sentiment.values\n",
    "        \n",
    "        # Cria um dataset pronto para avaliação\n",
    "        test_classifier_ds = (\n",
    "            tf.data.Dataset.from_tensor_slices((features, labels))\n",
    "            .shuffle(1000)\n",
    "            .batch(config.BATCH_SIZE)\n",
    "        )\n",
    "        \n",
    "        # Chama o método de avaliação padrão da superclasse\n",
    "        return super().evaluate(test_classifier_ds)\n",
    "\n",
    "    # Método necessário para compatibilidade com a API do Keras\n",
    "    def build(self, input_shape):\n",
    "        self.built = True"
   ]
  },
  {
   "cell_type": "code",
   "execution_count": null,
   "id": "0c0652ec-ce79-4265-83ec-9433cf59e343",
   "metadata": {},
   "outputs": [],
   "source": [
    "# Encapsula o modelo classificador em uma versão end-to-end,\n",
    "# que aceita diretamente um DataFrame com texto cru (review, sentiment)\n",
    "def get_end_to_end(model):\n",
    "    # Reutiliza entradas e saídas do classificador treinado\n",
    "    inputs = classifer_model.inputs[0]\n",
    "    outputs = classifer_model.outputs\n",
    "\n",
    "    # Cria o novo modelo baseado na classe customizada\n",
    "    end_to_end_model = ModelEndtoEnd(inputs, outputs, name=\"end_to_end_model\")\n",
    "\n",
    "    # Compila o modelo com o mesmo otimizador e métricas\n",
    "    optimizer = keras.optimizers.Adam(learning_rate=config.LR)\n",
    "    end_to_end_model.compile(\n",
    "        optimizer=optimizer,\n",
    "        loss=\"binary_crossentropy\",\n",
    "        metrics=[\"accuracy\"]\n",
    "    )\n",
    "    \n",
    "    return end_to_end_model"
   ]
  },
  {
   "cell_type": "code",
   "execution_count": null,
   "id": "2daeca9c-d46a-4bb9-9cac-34a1ec9f7ce5",
   "metadata": {},
   "outputs": [],
   "source": [
    "# Cria o modelo final que aceita DataFrame com texto direto\n",
    "end_to_end_classification_model = get_end_to_end(classifer_model)\n",
    "\n",
    "# Avalia diretamente o DataFrame bruto (sem precisar codificar manualmente)\n",
    "end_to_end_classification_model.evaluate(test_raw_classifier_ds)"
   ]
  },
  {
   "cell_type": "markdown",
   "id": "34be3524-1aee-4ee2-94d3-c749fe5cd738",
   "metadata": {},
   "source": [
    "# Modelagem de Linguagem Mascarada de Ponta a Ponta com BERT - Dataset Amazon Polarity (Hugging Face)"
   ]
  },
  {
   "cell_type": "markdown",
   "id": "c9b5485b-3acc-4d84-9e7d-0a9e239a18c0",
   "metadata": {},
   "source": [
    "## Importações e Configurações"
   ]
  },
  {
   "cell_type": "code",
   "execution_count": 1,
   "id": "912bbdc5-5757-4176-9055-c4884394305d",
   "metadata": {},
   "outputs": [],
   "source": [
    "import os\n",
    "import random\n",
    "import re\n",
    "from collections import defaultdict\n",
    "import numpy as np\n",
    "import pandas as pd\n",
    "import tensorflow as tf\n",
    "import keras\n",
    "from keras import layers\n",
    "from keras.layers import TextVectorization\n",
    "import keras_nlp\n",
    "from datasets import load_dataset\n",
    "from sklearn.metrics import (\n",
    "    accuracy_score, precision_score, recall_score, f1_score,\n",
    "    classification_report, confusion_matrix, ConfusionMatrixDisplay\n",
    ")\n",
    "import matplotlib.pyplot as plt\n",
    "\n",
    "from dataclasses import dataclass\n",
    "\n",
    "@dataclass\n",
    "class Config:\n",
    "    MAX_LEN = 128\n",
    "    BATCH_SIZE = 32\n",
    "    LR = 0.001\n",
    "    VOCAB_SIZE = 30000\n",
    "    EMBED_DIM = 32\n",
    "    NUM_HEAD = 4\n",
    "    FF_DIM = 128\n",
    "    NUM_LAYERS = 1\n",
    "\n",
    "config = Config()"
   ]
  },
  {
   "cell_type": "markdown",
   "id": "d0787dbd-0b83-4d13-b6b4-8f41c981fe8f",
   "metadata": {},
   "source": [
    "## Carregar Dataset Amazon Polarity"
   ]
  },
  {
   "cell_type": "code",
   "execution_count": 2,
   "id": "051e676e-2786-4ea0-8d45-b996b3166efd",
   "metadata": {},
   "outputs": [],
   "source": [
    "dataset = load_dataset(\"amazon_polarity\")\n",
    "train_ds = dataset[\"train\"].shuffle(seed=42).select(range(40000))\n",
    "test_ds = dataset[\"test\"].shuffle(seed=42).select(range(10000))\n",
    "\n",
    "train_df = pd.DataFrame({\n",
    "    \"review\": train_ds[\"content\"],\n",
    "    \"sentiment\": train_ds[\"label\"]\n",
    "})\n",
    "\n",
    "test_df = pd.DataFrame({\n",
    "    \"review\": test_ds[\"content\"],\n",
    "    \"sentiment\": test_ds[\"label\"]\n",
    "})\n",
    "\n",
    "all_data = pd.concat([train_df, test_df], ignore_index=True)"
   ]
  },
  {
   "cell_type": "markdown",
   "id": "393c89c7-707d-413d-a54d-238f51741215",
   "metadata": {},
   "source": [
    "## Tokenização e Preparação dos Dados"
   ]
  },
  {
   "cell_type": "code",
   "execution_count": 3,
   "id": "6584b039-c61b-40e2-a89e-4d6b65a4a5ef",
   "metadata": {},
   "outputs": [
    {
     "name": "stderr",
     "output_type": "stream",
     "text": [
      "2025-04-22 20:56:25.846964: I metal_plugin/src/device/metal_device.cc:1154] Metal device set to: Apple M1\n",
      "2025-04-22 20:56:25.847476: I metal_plugin/src/device/metal_device.cc:296] systemMemory: 8.00 GB\n",
      "2025-04-22 20:56:25.848171: I metal_plugin/src/device/metal_device.cc:313] maxCacheSize: 2.67 GB\n",
      "2025-04-22 20:56:25.848858: I tensorflow/core/common_runtime/pluggable_device/pluggable_device_factory.cc:305] Could not identify NUMA node of platform GPU ID 0, defaulting to 0. Your kernel may not have been built with NUMA support.\n",
      "2025-04-22 20:56:25.848885: I tensorflow/core/common_runtime/pluggable_device/pluggable_device_factory.cc:271] Created TensorFlow device (/job:localhost/replica:0/task:0/device:GPU:0 with 0 MB memory) -> physical PluggableDevice (device: 0, name: METAL, pci bus id: <undefined>)\n"
     ]
    }
   ],
   "source": [
    "def custom_standardization(input_data):\n",
    "    lowercase = tf.strings.lower(input_data)\n",
    "    stripped_html = tf.strings.regex_replace(lowercase, \"<br />\", \" \")\n",
    "    return tf.strings.regex_replace(stripped_html, \"[%s]\" % re.escape(\"!#$%&'()*+,-./:;<=>?@\\\\^_`{|}~\"), \"\")\n",
    "\n",
    "def get_vectorize_layer(texts, vocab_size, max_seq, special_tokens=[\"[MASK]\"]):\n",
    "    vectorize_layer = TextVectorization(\n",
    "        max_tokens=vocab_size,\n",
    "        output_mode=\"int\",\n",
    "        standardize=custom_standardization,\n",
    "        output_sequence_length=max_seq,\n",
    "    )\n",
    "    vectorize_layer.adapt(texts)\n",
    "    vocab = vectorize_layer.get_vocabulary()\n",
    "    vocab = vocab[2 : vocab_size - len(special_tokens)] + [\"[mask]\"]\n",
    "    vectorize_layer.set_vocabulary(vocab)\n",
    "    return vectorize_layer\n",
    "\n",
    "vectorize_layer = get_vectorize_layer(all_data.review.values.tolist(), config.VOCAB_SIZE, config.MAX_LEN)\n",
    "mask_token_id = vectorize_layer([\"[mask]\"]).numpy()[0][0]\n",
    "\n",
    "def encode(texts):\n",
    "    return vectorize_layer(texts).numpy()\n",
    "\n",
    "def get_masked_input_and_labels(encoded_texts):\n",
    "    inp_mask = np.random.rand(*encoded_texts.shape) < 0.15\n",
    "    inp_mask[encoded_texts <= 2] = False\n",
    "    labels = -1 * np.ones(encoded_texts.shape, dtype=int)\n",
    "    labels[inp_mask] = encoded_texts[inp_mask]\n",
    "    encoded_texts_masked = np.copy(encoded_texts)\n",
    "    inp_mask_2mask = inp_mask & (np.random.rand(*encoded_texts.shape) < 0.90)\n",
    "    encoded_texts_masked[inp_mask_2mask] = mask_token_id\n",
    "    inp_mask_2random = inp_mask_2mask & (np.random.rand(*encoded_texts.shape) < 1 / 9)\n",
    "    encoded_texts_masked[inp_mask_2random] = np.random.randint(3, mask_token_id, inp_mask_2random.sum())\n",
    "    sample_weights = np.ones(labels.shape)\n",
    "    sample_weights[labels == -1] = 0\n",
    "    y_labels = np.copy(encoded_texts)\n",
    "    return encoded_texts_masked, y_labels, sample_weights\n",
    "\n",
    "x_train = encode(train_df.review.values)\n",
    "y_train = train_df.sentiment.values\n",
    "train_classifier_ds = tf.data.Dataset.from_tensor_slices((x_train, y_train)).shuffle(1000).batch(config.BATCH_SIZE)\n",
    "\n",
    "x_test = encode(test_df.review.values)\n",
    "y_test = test_df.sentiment.values\n",
    "test_classifier_ds = tf.data.Dataset.from_tensor_slices((x_test, y_test)).batch(config.BATCH_SIZE)\n",
    "\n",
    "x_all_review = encode(all_data.review.values)\n",
    "x_masked_train, y_masked_labels, sample_weights = get_masked_input_and_labels(x_all_review)\n",
    "mlm_ds = tf.data.Dataset.from_tensor_slices((x_masked_train, y_masked_labels, sample_weights)).shuffle(1000).batch(config.BATCH_SIZE)"
   ]
  },
  {
   "cell_type": "markdown",
   "id": "94a8af21-2793-4f13-b7d8-38c6701783cc",
   "metadata": {},
   "source": [
    "## Definição do Modelo BERT (MLM)"
   ]
  },
  {
   "cell_type": "code",
   "execution_count": 6,
   "id": "1be57a6a-0a74-4c1e-a3be-a5b129a51514",
   "metadata": {},
   "outputs": [],
   "source": [
    "class MaskedLanguageModel(keras.Model):\n",
    "    def __init__(self, *args, **kwargs):\n",
    "        super().__init__(*args, **kwargs)\n",
    "        self.loss_tracker = keras.metrics.Mean(name=\"loss\")\n",
    "\n",
    "    def compute_loss(self, x=None, y=None, y_pred=None, sample_weight=None):\n",
    "        loss = keras.losses.SparseCategoricalCrossentropy(reduction=None)(y, y_pred, sample_weight)\n",
    "        self.loss_tracker.update_state(loss, sample_weight=sample_weight)\n",
    "        return keras.ops.sum(loss)\n",
    "\n",
    "    def compute_metrics(self, x, y, y_pred, sample_weight):\n",
    "        return {\"loss\": self.loss_tracker.result()}\n",
    "\n",
    "    @property\n",
    "    def metrics(self):\n",
    "        return [self.loss_tracker]\n",
    "\n",
    "def bert_module(query, key, value, i):\n",
    "    attention_output = layers.MultiHeadAttention(\n",
    "        num_heads=config.NUM_HEAD, \n",
    "        key_dim=config.EMBED_DIM // config.NUM_HEAD, \n",
    "        name=f\"encoder_{i}_multiheadattention\"\n",
    "    )(query, key, value)\n",
    "    attention_output = layers.Dropout(0.1, name=f\"encoder_{i}_att_dropout\")(attention_output)\n",
    "    attention_output = layers.LayerNormalization(epsilon=1e-6, name=f\"encoder_{i}_att_layernormalization\")(query + attention_output)\n",
    "    ffn = keras.Sequential([layers.Dense(config.FF_DIM, activation=\"relu\"), layers.Dense(config.EMBED_DIM)], name=f\"encoder_{i}_ffn\")\n",
    "    ffn_output = ffn(attention_output)\n",
    "    ffn_output = layers.Dropout(0.1, name=f\"encoder_{i}_ffn_dropout\")(ffn_output)\n",
    "    sequence_output = layers.LayerNormalization(epsilon=1e-6, name=f\"encoder_{i}_ffn_layernormalization\")(attention_output + ffn_output)\n",
    "    return sequence_output\n",
    "\n",
    "def create_masked_language_bert_model():\n",
    "    inputs = layers.Input((config.MAX_LEN,), dtype=\"int64\")\n",
    "    word_embeddings = layers.Embedding(config.VOCAB_SIZE, config.EMBED_DIM, name=\"word_embedding\")(inputs)\n",
    "    position_embeddings = keras_nlp.layers.PositionEmbedding(sequence_length=config.MAX_LEN, name=\"position_embedding\")(word_embeddings)\n",
    "    embeddings = word_embeddings + position_embeddings\n",
    "    encoder_output = embeddings\n",
    "    for i in range(config.NUM_LAYERS):\n",
    "        encoder_output = bert_module(encoder_output, encoder_output, encoder_output, i)\n",
    "    mlm_output = layers.Dense(config.VOCAB_SIZE, name=\"mlm_cls\", activation=\"softmax\")(encoder_output)\n",
    "    mlm_model = MaskedLanguageModel(inputs, mlm_output, name=\"masked_bert_model\")\n",
    "    optimizer = keras.optimizers.Adam(learning_rate=config.LR)\n",
    "    mlm_model.compile(optimizer=optimizer)\n",
    "    return mlm_model"
   ]
  },
  {
   "cell_type": "markdown",
   "id": "a4dc54b3-df8c-430d-a63a-0799b12316bc",
   "metadata": {},
   "source": [
    "## Treinar MLM e Salvar Encode"
   ]
  },
  {
   "cell_type": "code",
   "execution_count": 7,
   "id": "000e679e-d09b-4842-8123-569e2d7dccd9",
   "metadata": {},
   "outputs": [
    {
     "name": "stdout",
     "output_type": "stream",
     "text": [
      "Epoch 1/5\n",
      "\u001b[1m1563/1563\u001b[0m \u001b[32m━━━━━━━━━━━━━━━━━━━━\u001b[0m\u001b[37m\u001b[0m \u001b[1m408s\u001b[0m 259ms/step - loss: 7.4009\n",
      "Epoch 2/5\n",
      "\u001b[1m1563/1563\u001b[0m \u001b[32m━━━━━━━━━━━━━━━━━━━━\u001b[0m\u001b[37m\u001b[0m \u001b[1m450s\u001b[0m 288ms/step - loss: 6.5412\n",
      "Epoch 3/5\n",
      "\u001b[1m1563/1563\u001b[0m \u001b[32m━━━━━━━━━━━━━━━━━━━━\u001b[0m\u001b[37m\u001b[0m \u001b[1m429s\u001b[0m 275ms/step - loss: 6.2111\n",
      "Epoch 4/5\n",
      "\u001b[1m1563/1563\u001b[0m \u001b[32m━━━━━━━━━━━━━━━━━━━━\u001b[0m\u001b[37m\u001b[0m \u001b[1m410s\u001b[0m 262ms/step - loss: 5.9508\n",
      "Epoch 5/5\n",
      "\u001b[1m1563/1563\u001b[0m \u001b[32m━━━━━━━━━━━━━━━━━━━━\u001b[0m\u001b[37m\u001b[0m \u001b[1m415s\u001b[0m 265ms/step - loss: 5.7693\n"
     ]
    }
   ],
   "source": [
    "mlm_model = create_masked_language_bert_model()\n",
    "mlm_model.fit(mlm_ds, epochs=5)\n",
    "mlm_model.save(\"bert_mlm_amazon.keras\")"
   ]
  },
  {
   "cell_type": "markdown",
   "id": "55212c43-9da9-47ea-8c4c-5b30f5c3420d",
   "metadata": {},
   "source": [
    "## Carregar o Encoder (MLM) e Criar o Classificador"
   ]
  },
  {
   "cell_type": "code",
   "execution_count": 8,
   "id": "28ef5ac5-cc18-481b-bf25-7e97a24a8771",
   "metadata": {},
   "outputs": [],
   "source": [
    "mlm_model = keras.models.load_model(\n",
    "    \"bert_mlm_amazon.keras\",\n",
    "    custom_objects={\"MaskedLanguageModel\": MaskedLanguageModel}\n",
    ")\n",
    "\n",
    "pretrained_bert_model = keras.Model(\n",
    "    mlm_model.input,\n",
    "    mlm_model.get_layer(\"encoder_0_ffn_layernormalization\").output\n",
    ")\n",
    "\n",
    "pretrained_bert_model.trainable = False"
   ]
  },
  {
   "cell_type": "markdown",
   "id": "b9805893-0625-4cd8-8129-ec139536af34",
   "metadata": {},
   "source": [
    "## Definição do Classificador"
   ]
  },
  {
   "cell_type": "code",
   "execution_count": 9,
   "id": "21f0189b-2ac5-44d5-a468-efb64795dfcd",
   "metadata": {},
   "outputs": [],
   "source": [
    "def create_classifier_bert_model():\n",
    "    inputs = layers.Input((config.MAX_LEN,), dtype=\"int64\")\n",
    "    sequence_output = pretrained_bert_model(inputs)\n",
    "    pooled_output = layers.GlobalMaxPooling1D()(sequence_output)\n",
    "    hidden_layer = layers.Dense(64, activation=\"relu\")(pooled_output)\n",
    "    outputs = layers.Dense(1, activation=\"sigmoid\")(hidden_layer)\n",
    "    model = keras.Model(inputs, outputs, name=\"classification\")\n",
    "    model.compile(optimizer=keras.optimizers.Adam(), loss=\"binary_crossentropy\", metrics=[\"accuracy\"])\n",
    "    return model\n",
    "\n",
    "classifer_model = create_classifier_bert_model()"
   ]
  },
  {
   "cell_type": "markdown",
   "id": "fee7c474-7d5b-42db-91ea-5f509b6544ac",
   "metadata": {},
   "source": [
    "## Treinar o Classficador (Encoder Congelado Primeiro)"
   ]
  },
  {
   "cell_type": "code",
   "execution_count": 10,
   "id": "a752bab8-01a3-4f01-8ba5-ee0b4f6c76b6",
   "metadata": {},
   "outputs": [
    {
     "name": "stdout",
     "output_type": "stream",
     "text": [
      "Epoch 1/5\n",
      "\u001b[1m1250/1250\u001b[0m \u001b[32m━━━━━━━━━━━━━━━━━━━━\u001b[0m\u001b[37m\u001b[0m \u001b[1m42s\u001b[0m 32ms/step - accuracy: 0.5725 - loss: 0.7061 - val_accuracy: 0.5877 - val_loss: 0.6790\n",
      "Epoch 2/5\n",
      "\u001b[1m1250/1250\u001b[0m \u001b[32m━━━━━━━━━━━━━━━━━━━━\u001b[0m\u001b[37m\u001b[0m \u001b[1m37s\u001b[0m 29ms/step - accuracy: 0.6176 - loss: 0.6521 - val_accuracy: 0.6014 - val_loss: 0.6661\n",
      "Epoch 3/5\n",
      "\u001b[1m1250/1250\u001b[0m \u001b[32m━━━━━━━━━━━━━━━━━━━━\u001b[0m\u001b[37m\u001b[0m \u001b[1m37s\u001b[0m 29ms/step - accuracy: 0.6248 - loss: 0.6474 - val_accuracy: 0.6346 - val_loss: 0.6395\n",
      "Epoch 4/5\n",
      "\u001b[1m1250/1250\u001b[0m \u001b[32m━━━━━━━━━━━━━━━━━━━━\u001b[0m\u001b[37m\u001b[0m \u001b[1m38s\u001b[0m 30ms/step - accuracy: 0.6238 - loss: 0.6476 - val_accuracy: 0.6245 - val_loss: 0.6471\n",
      "Epoch 5/5\n",
      "\u001b[1m1250/1250\u001b[0m \u001b[32m━━━━━━━━━━━━━━━━━━━━\u001b[0m\u001b[37m\u001b[0m \u001b[1m36s\u001b[0m 29ms/step - accuracy: 0.6278 - loss: 0.6438 - val_accuracy: 0.6149 - val_loss: 0.6527\n"
     ]
    },
    {
     "data": {
      "text/plain": [
       "<keras.src.callbacks.history.History at 0x31bb2a1d0>"
      ]
     },
     "execution_count": 10,
     "metadata": {},
     "output_type": "execute_result"
    }
   ],
   "source": [
    "classifer_model.fit(train_classifier_ds, epochs=5, validation_data=test_classifier_ds)"
   ]
  },
  {
   "cell_type": "markdown",
   "id": "f87b46b0-819e-4260-8673-742475bbd1d9",
   "metadata": {},
   "source": [
    "## Destravar o Encoder para Fine-Tuning"
   ]
  },
  {
   "cell_type": "code",
   "execution_count": 11,
   "id": "db8a44b5-ce17-4a16-ad5f-88692fc44d66",
   "metadata": {},
   "outputs": [
    {
     "name": "stdout",
     "output_type": "stream",
     "text": [
      "Epoch 1/5\n",
      "\u001b[1m1250/1250\u001b[0m \u001b[32m━━━━━━━━━━━━━━━━━━━━\u001b[0m\u001b[37m\u001b[0m \u001b[1m95s\u001b[0m 74ms/step - accuracy: 0.7495 - loss: 0.4995 - val_accuracy: 0.8420 - val_loss: 0.3600\n",
      "Epoch 2/5\n",
      "\u001b[1m1250/1250\u001b[0m \u001b[32m━━━━━━━━━━━━━━━━━━━━\u001b[0m\u001b[37m\u001b[0m \u001b[1m92s\u001b[0m 74ms/step - accuracy: 0.8696 - loss: 0.3064 - val_accuracy: 0.8470 - val_loss: 0.3743\n",
      "Epoch 3/5\n",
      "\u001b[1m1250/1250\u001b[0m \u001b[32m━━━━━━━━━━━━━━━━━━━━\u001b[0m\u001b[37m\u001b[0m \u001b[1m95s\u001b[0m 76ms/step - accuracy: 0.9177 - loss: 0.2074 - val_accuracy: 0.8369 - val_loss: 0.4366\n",
      "Epoch 4/5\n",
      "\u001b[1m1250/1250\u001b[0m \u001b[32m━━━━━━━━━━━━━━━━━━━━\u001b[0m\u001b[37m\u001b[0m \u001b[1m92s\u001b[0m 73ms/step - accuracy: 0.9524 - loss: 0.1264 - val_accuracy: 0.8302 - val_loss: 0.5473\n",
      "Epoch 5/5\n",
      "\u001b[1m1250/1250\u001b[0m \u001b[32m━━━━━━━━━━━━━━━━━━━━\u001b[0m\u001b[37m\u001b[0m \u001b[1m92s\u001b[0m 73ms/step - accuracy: 0.9748 - loss: 0.0719 - val_accuracy: 0.8216 - val_loss: 0.7310\n"
     ]
    },
    {
     "data": {
      "text/plain": [
       "<keras.src.callbacks.history.History at 0x31dde18a0>"
      ]
     },
     "execution_count": 11,
     "metadata": {},
     "output_type": "execute_result"
    }
   ],
   "source": [
    "pretrained_bert_model.trainable = True\n",
    "\n",
    "classifer_model.compile(optimizer=keras.optimizers.Adam(learning_rate=config.LR), loss=\"binary_crossentropy\", metrics=[\"accuracy\"])\n",
    "\n",
    "classifer_model.fit(train_classifier_ds, epochs=5, validation_data=test_classifier_ds)"
   ]
  },
  {
   "cell_type": "markdown",
   "id": "1345e9eb-d0a7-4aad-a7ab-27c2491ab939",
   "metadata": {},
   "source": [
    "## Salvar os Pesos do Classificador (Segurança para evitar perda de treino)"
   ]
  },
  {
   "cell_type": "code",
   "execution_count": 13,
   "id": "543e2e29-b568-4c8d-8bd9-6787575aeebd",
   "metadata": {},
   "outputs": [],
   "source": [
    "# Salvar apenas os pesos do classificador\n",
    "classifer_model.save_weights(\"classifer_model.weights.h5\")"
   ]
  },
  {
   "cell_type": "markdown",
   "id": "aeea8f70-103b-48a8-b5e2-2e4a6ebbc812",
   "metadata": {},
   "source": [
    "# Treinamento dos dois modelos de Markov (positivo e negativo)"
   ]
  },
  {
   "cell_type": "code",
   "execution_count": 14,
   "id": "3cb7c01f-ab87-482d-aa30-26c5f45ae679",
   "metadata": {},
   "outputs": [],
   "source": [
    "from collections import defaultdict\n",
    "\n",
    "def train_markov_model(texts, n=2):\n",
    "    model = defaultdict(list)\n",
    "    for text in texts:\n",
    "        words = text.split()\n",
    "        for i in range(len(words) - n):\n",
    "            prefix = tuple(words[i:i+n])\n",
    "            next_word = words[i+n]\n",
    "            model[prefix].append(next_word)\n",
    "    return model\n",
    "\n",
    "def calculate_probability(model, text, n=2):\n",
    "    words = text.split()\n",
    "    score = 0\n",
    "    for i in range(len(words) - n):\n",
    "        prefix = tuple(words[i:i+n])\n",
    "        next_word = words[i+n]\n",
    "        next_words = model.get(prefix, [])\n",
    "        count = next_words.count(next_word)\n",
    "        total = len(next_words)\n",
    "        if total > 0 and count > 0:\n",
    "            score += count / total\n",
    "    return score"
   ]
  },
  {
   "cell_type": "markdown",
   "id": "108f486a-3637-441d-bbbc-3f3d362dcbb6",
   "metadata": {
    "jp-MarkdownHeadingCollapsed": true
   },
   "source": [
    "## Treinar o Modelo de Markov para cada Classe"
   ]
  },
  {
   "cell_type": "code",
   "execution_count": 15,
   "id": "e2912d22-fdc4-4170-a700-79e65782c79a",
   "metadata": {},
   "outputs": [],
   "source": [
    "positive_texts = train_df[train_df.sentiment == 1].review.values.tolist()\n",
    "negative_texts = train_df[train_df.sentiment == 0].review.values.tolist()\n",
    "\n",
    "markov_model_pos = train_markov_model(positive_texts, n=2)\n",
    "markov_model_neg = train_markov_model(negative_texts, n=2)"
   ]
  },
  {
   "cell_type": "markdown",
   "id": "47b4278d-019e-4262-a015-171d3a9ac599",
   "metadata": {},
   "source": [
    "## Função de Classificação usando Markov"
   ]
  },
  {
   "cell_type": "code",
   "execution_count": 16,
   "id": "1dd47c85-931d-469f-8375-5c7ddb894821",
   "metadata": {},
   "outputs": [],
   "source": [
    "def classify_markov(text, pos_model, neg_model):\n",
    "    pos_score = calculate_probability(pos_model, text)\n",
    "    neg_score = calculate_probability(neg_model, text)\n",
    "    return 1 if pos_score > neg_score else 0"
   ]
  },
  {
   "cell_type": "markdown",
   "id": "a00efdff-5dde-481f-bc93-b6be6d9cc935",
   "metadata": {},
   "source": [
    "## Classificação no Conjunto de Teste"
   ]
  },
  {
   "cell_type": "code",
   "execution_count": 17,
   "id": "b448e333-e14e-4081-bff7-fa0ba03dcd23",
   "metadata": {},
   "outputs": [],
   "source": [
    "y_pred_markov = [classify_markov(text, markov_model_pos, markov_model_neg) for text in test_df.review.values]"
   ]
  },
  {
   "cell_type": "markdown",
   "id": "6909b762-6335-4684-8a26-770bf1e5894b",
   "metadata": {},
   "source": [
    "## Salvar os modelos de Markov"
   ]
  },
  {
   "cell_type": "code",
   "execution_count": 18,
   "id": "3752af8f-1508-49c2-8867-039a62f10707",
   "metadata": {},
   "outputs": [],
   "source": [
    "import pickle\n",
    "\n",
    "with open(\"markov_model_pos.pkl\", \"wb\") as f:\n",
    "    pickle.dump(markov_model_pos, f)\n",
    "\n",
    "with open(\"markov_model_neg.pkl\", \"wb\") as f:\n",
    "    pickle.dump(markov_model_neg, f)"
   ]
  },
  {
   "cell_type": "markdown",
   "id": "1284e7ae-0868-4fb1-b5d0-18821902ff04",
   "metadata": {},
   "source": [
    "### Carregar depois"
   ]
  },
  {
   "cell_type": "code",
   "execution_count": 19,
   "id": "5bebd228-b84f-47c7-b0a0-d679055e910a",
   "metadata": {},
   "outputs": [],
   "source": [
    "with open(\"markov_model_pos.pkl\", \"rb\") as f:\n",
    "    markov_model_pos = pickle.load(f)\n",
    "\n",
    "with open(\"markov_model_neg.pkl\", \"rb\") as f:\n",
    "    markov_model_neg = pickle.load(f)"
   ]
  },
  {
   "cell_type": "markdown",
   "id": "89b75d5c-d128-4e9c-9c38-7e4fbc1d0866",
   "metadata": {},
   "source": [
    "# Avaliação, Métricas e Comparação entre BERT e Markov"
   ]
  },
  {
   "cell_type": "markdown",
   "id": "1b65df71-c283-461a-9973-8c6870c95f35",
   "metadata": {},
   "source": [
    "## Geração das Predições do BERT (garantindo que tudo esteja atualizado)"
   ]
  },
  {
   "cell_type": "code",
   "execution_count": 20,
   "id": "17210367-5efb-46c9-aca3-64ca1ec97e6d",
   "metadata": {},
   "outputs": [
    {
     "name": "stdout",
     "output_type": "stream",
     "text": [
      "\u001b[1m313/313\u001b[0m \u001b[32m━━━━━━━━━━━━━━━━━━━━\u001b[0m\u001b[37m\u001b[0m \u001b[1m6s\u001b[0m 17ms/step\n"
     ]
    }
   ],
   "source": [
    "y_pred_bert_probs = classifer_model.predict(x_test)\n",
    "y_pred_bert = (y_pred_bert_probs > 0.5).astype(int).flatten()"
   ]
  },
  {
   "cell_type": "markdown",
   "id": "fff3e292-bb03-4782-8323-296426446bda",
   "metadata": {},
   "source": [
    "## Métricas de Desempenho (Accuracy, Precision, Recall, F1) *Ambos*"
   ]
  },
  {
   "cell_type": "code",
   "execution_count": 21,
   "id": "3d18d896-652d-4fd9-8f2b-82c03e79a384",
   "metadata": {},
   "outputs": [],
   "source": [
    "from sklearn.metrics import (\n",
    "    accuracy_score, precision_score, recall_score, f1_score,\n",
    "    classification_report, confusion_matrix, ConfusionMatrixDisplay\n",
    ")\n",
    "\n",
    "# BERT\n",
    "accuracy_bert = accuracy_score(y_test, y_pred_bert)\n",
    "precision_bert = precision_score(y_test, y_pred_bert)\n",
    "recall_bert = recall_score(y_test, y_pred_bert)\n",
    "f1_bert = f1_score(y_test, y_pred_bert)\n",
    "\n",
    "# Markov\n",
    "accuracy_markov = accuracy_score(test_df.sentiment.values, y_pred_markov)\n",
    "precision_markov = precision_score(test_df.sentiment.values, y_pred_markov)\n",
    "recall_markov = recall_score(test_df.sentiment.values, y_pred_markov)\n",
    "f1_markov = f1_score(test_df.sentiment.values, y_pred_markov)"
   ]
  },
  {
   "cell_type": "markdown",
   "id": "4429934e-b7b6-4640-8af7-5ca11c07ff7b",
   "metadata": {},
   "source": [
    "## Tabela Final de Comparação entre BERT e Markov"
   ]
  },
  {
   "cell_type": "code",
   "execution_count": 22,
   "id": "3053a6d1-dfa9-4a73-b160-1c395050d6c6",
   "metadata": {},
   "outputs": [
    {
     "name": "stdout",
     "output_type": "stream",
     "text": [
      "   Modelo  Accuracy  Precision    Recall  F1-Score\n",
      "0    BERT    0.8216   0.841653  0.795914  0.818145\n",
      "1  Markov    0.6968   0.700839  0.695557  0.698188\n"
     ]
    }
   ],
   "source": [
    "import pandas as pd\n",
    "\n",
    "comparison_df = pd.DataFrame({\n",
    "    \"Modelo\": [\"BERT\", \"Markov\"],\n",
    "    \"Accuracy\": [accuracy_bert, accuracy_markov],\n",
    "    \"Precision\": [precision_bert, precision_markov],\n",
    "    \"Recall\": [recall_bert, recall_markov],\n",
    "    \"F1-Score\": [f1_bert, f1_markov]\n",
    "})\n",
    "\n",
    "print(comparison_df)"
   ]
  },
  {
   "cell_type": "markdown",
   "id": "1b1635c5-0a99-48f3-8523-cb29b99b7044",
   "metadata": {},
   "source": [
    "## Matrz de Confusão dos Dois Modelos"
   ]
  },
  {
   "cell_type": "code",
   "execution_count": 23,
   "id": "d18d7140-50d7-4791-94ce-5c06615b8bd5",
   "metadata": {},
   "outputs": [
    {
     "data": {
      "image/png": "[encoded data removed]",
      "text/plain": [
       "<Figure size 640x480 with 2 Axes>"
      ]
     },
     "metadata": {},
     "output_type": "display_data"
    },
    {
     "data": {
      "image/png": "[encoded data removed]",
      "text/plain": [
       "<Figure size 640x480 with 2 Axes>"
      ]
     },
     "metadata": {},
     "output_type": "display_data"
    }
   ],
   "source": [
    "# Confusion Matrix BERT\n",
    "cm_bert = confusion_matrix(y_test, y_pred_bert)\n",
    "disp_bert = ConfusionMatrixDisplay(confusion_matrix=cm_bert, display_labels=[\"Negative\", \"Positive\"])\n",
    "disp_bert.plot()\n",
    "plt.title(\"Matriz de Confusão - BERT\")\n",
    "plt.show()\n",
    "\n",
    "# Confusion Matrix Markov\n",
    "cm_markov = confusion_matrix(test_df.sentiment.values, y_pred_markov)\n",
    "disp_markov = ConfusionMatrixDisplay(confusion_matrix=cm_markov, display_labels=[\"Negative\", \"Positive\"])\n",
    "disp_markov.plot()\n",
    "plt.title(\"Matriz de Confusão - Markov\")\n",
    "plt.show()"
   ]
  },
  {
   "cell_type": "markdown",
   "id": "1e3d855a-998c-4387-8aac-a95ec5a6b019",
   "metadata": {},
   "source": [
    "## Gráfico de Barras das Métricas"
   ]
  },
  {
   "cell_type": "code",
   "execution_count": 24,
   "id": "30f82788-04af-43c0-be56-ecf329b93783",
   "metadata": {},
   "outputs": [
    {
     "data": {
      "image/png": "[encoded data removed]",
      "text/plain": [
       "<Figure size 800x500 with 1 Axes>"
      ]
     },
     "metadata": {},
     "output_type": "display_data"
    }
   ],
   "source": [
    "import numpy as np\n",
    "import matplotlib.pyplot as plt\n",
    "\n",
    "labels = ['Accuracy', 'Precision', 'Recall', 'F1-Score']\n",
    "bert_metrics = [accuracy_bert, precision_bert, recall_bert, f1_bert]\n",
    "markov_metrics = [accuracy_markov, precision_markov, recall_markov, f1_markov]\n",
    "\n",
    "x = np.arange(len(labels))\n",
    "width = 0.35\n",
    "\n",
    "fig, ax = plt.subplots(figsize=(8, 5))\n",
    "rects1 = ax.bar(x - width/2, bert_metrics, width, label='BERT', color='blue')\n",
    "rects2 = ax.bar(x + width/2, markov_metrics, width, label='Markov', color='orange')\n",
    "\n",
    "ax.set_ylabel('Score')\n",
    "ax.set_title('Comparação de Métricas: BERT vs Markov')\n",
    "ax.set_xticks(x)\n",
    "ax.set_xticklabels(labels)\n",
    "ax.legend()\n",
    "\n",
    "def autolabel(rects):\n",
    "    for rect in rects:\n",
    "        height = rect.get_height()\n",
    "        ax.annotate(f'{height:.2f}',\n",
    "                    xy=(rect.get_x() + rect.get_width() / 2, height),\n",
    "                    xytext=(0, 3),\n",
    "                    textcoords=\"offset points\",\n",
    "                    ha='center', va='bottom')\n",
    "\n",
    "autolabel(rects1)\n",
    "autolabel(rects2)\n",
    "\n",
    "plt.ylim(0, 1.05)\n",
    "plt.tight_layout()\n",
    "plt.show()"
   ]
  },
  {
   "cell_type": "markdown",
   "id": "86f88733-069d-4c9a-8dd5-a932bf5f636f",
   "metadata": {},
   "source": [
    "## Exemplos de Erros para Avaliação Qualitativa"
   ]
  },
  {
   "cell_type": "code",
   "execution_count": 25,
   "id": "fa2e753c-d792-4eb1-a9b5-7a8f3c0b3473",
   "metadata": {
    "scrolled": true
   },
   "outputs": [
    {
     "name": "stdout",
     "output_type": "stream",
     "text": [
      "===== Exemplos de erros do BERT =====\n",
      "                                                 review  sentiment\n",
      "7097  I'm a congenital heart surgeon.This computer i...          1\n",
      "388   I got these specifically for polishing off bla...          1\n",
      "1978  I had high expectations when i ordered this DV...          0\n",
      "9102  This is not a machine to buy if you're trying ...          1\n",
      "4323  Okay, I read all of the Angels book Lurlene wr...          1\n",
      "===== Exemplos de erros do Markov =====\n",
      "                                                 review  sentiment\n",
      "4464  leave it to milton friedman to make an airtigh...          1\n",
      "5205  Don't be fooled--this is NOT a Mott the Hoople...          0\n",
      "6282  This is yet another re-compilation of the bad ...          0\n",
      "1722  After hearing how Russian Doctors use sound to...          0\n",
      "9875  I just received the Brenthaven Sleeve for the ...          0\n"
     ]
    }
   ],
   "source": [
    "bert_errors = test_df[(y_pred_bert != y_test)]\n",
    "markov_errors = test_df[(np.array(y_pred_markov) != test_df.sentiment.values)]\n",
    "\n",
    "print(\"===== Exemplos de erros do BERT =====\")\n",
    "print(bert_errors.sample(5))\n",
    "\n",
    "print(\"===== Exemplos de erros do Markov =====\")\n",
    "print(markov_errors.sample(5))"
   ]
  }
 ],
 "metadata": {
  "kernelspec": {
   "display_name": "Python 3 (ipykernel)",
   "language": "python",
   "name": "python3"
  },
  "language_info": {
   "codemirror_mode": {
    "name": "ipython",
    "version": 3
   },
   "file_extension": ".py",
   "mimetype": "text/x-python",
   "name": "python",
   "nbconvert_exporter": "python",
   "pygments_lexer": "ipython3",
   "version": "3.10.17"
  }
 },
 "nbformat": 4,
 "nbformat_minor": 5
}
